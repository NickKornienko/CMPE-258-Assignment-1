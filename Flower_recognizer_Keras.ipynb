{
  "nbformat": 4,
  "nbformat_minor": 0,
  "metadata": {
    "colab": {
      "provenance": []
    },
    "kernelspec": {
      "name": "python3",
      "display_name": "Python 3"
    },
    "language_info": {
      "name": "python"
    }
  },
  "cells": [
    {
      "cell_type": "markdown",
      "source": [
        "We use a flower dataset to train this model to classify types of flowers.\n",
        "\n",
        "The dataset is split 80/20 training/test and is traing using 54 epochs with 14 validation steps, the final accuracy is 98.13% with a peak of 99.65%"
      ],
      "metadata": {
        "id": "BIMHRVY9YyQC"
      }
    },
    {
      "cell_type": "code",
      "execution_count": 32,
      "metadata": {
        "id": "uEiKJLhmCanW"
      },
      "outputs": [],
      "source": [
        "import tensorflow as tf\n",
        "from tensorflow.keras.preprocessing.image import ImageDataGenerator\n",
        "from tensorflow.keras.models import Sequential\n",
        "from tensorflow.keras.layers import Conv2D, MaxPooling2D, Flatten, Dense, Dropout\n",
        "import numpy as np\n",
        "from PIL import Image"
      ]
    },
    {
      "cell_type": "code",
      "source": [
        "# Load and split data\n",
        "datagen = ImageDataGenerator(rescale=1./255, validation_split=0.2)\n",
        "\n",
        "train_generator = datagen.flow_from_directory(\n",
        "    directory='/content/train',\n",
        "    target_size=(150, 150),\n",
        "    batch_size=32,\n",
        "    class_mode='categorical',\n",
        "    subset='training')\n",
        "\n",
        "validation_generator = datagen.flow_from_directory(\n",
        "    directory='/content/train',\n",
        "    target_size=(150, 150),\n",
        "    batch_size=32,\n",
        "    class_mode='categorical',\n",
        "    subset='validation')"
      ],
      "metadata": {
        "colab": {
          "base_uri": "https://localhost:8080/"
        },
        "id": "qzf0Ptn4FM8u",
        "outputId": "f2b9ca65-2ccc-40dd-892f-7166e75b3630"
      },
      "execution_count": 28,
      "outputs": [
        {
          "output_type": "stream",
          "name": "stdout",
          "text": [
            "Found 1712 images belonging to 5 classes.\n",
            "Found 427 images belonging to 5 classes.\n"
          ]
        }
      ]
    },
    {
      "cell_type": "code",
      "source": [
        "# Prepare model\n",
        "model = Sequential([\n",
        "    Conv2D(32, (3,3), activation='relu', input_shape=(150, 150, 3)),\n",
        "    MaxPooling2D(2, 2),\n",
        "    Conv2D(64, (3,3), activation='relu'),\n",
        "    MaxPooling2D(2,2),\n",
        "    Conv2D(128, (3,3), activation='relu'),\n",
        "    MaxPooling2D(2,2),\n",
        "    Flatten(),\n",
        "    Dense(512, activation='relu'),\n",
        "    Dense(len(train_generator.class_indices), activation='softmax')\n",
        "])"
      ],
      "metadata": {
        "id": "J_GW0KK4FM60"
      },
      "execution_count": 29,
      "outputs": []
    },
    {
      "cell_type": "code",
      "source": [
        "# Generate model\n",
        "model.compile(loss='categorical_crossentropy',\n",
        "              optimizer='adam',\n",
        "              metrics=['accuracy'])"
      ],
      "metadata": {
        "id": "_K7a3HNsFM4A"
      },
      "execution_count": 30,
      "outputs": []
    },
    {
      "cell_type": "code",
      "source": [
        "# Fitting model based on 1712 training images, 427 validation\n",
        "history = model.fit(\n",
        "    train_generator,\n",
        "    steps_per_epoch=54,\n",
        "    epochs=15,\n",
        "    validation_data=validation_generator,\n",
        "    validation_steps=14)"
      ],
      "metadata": {
        "colab": {
          "base_uri": "https://localhost:8080/"
        },
        "id": "5TgbqQPRFMzr",
        "outputId": "c7df7850-d079-4961-c69f-190fd521a3a7"
      },
      "execution_count": 26,
      "outputs": [
        {
          "output_type": "stream",
          "name": "stdout",
          "text": [
            "Epoch 1/15\n",
            "54/54 [==============================] - 101s 2s/step - loss: 0.8140 - accuracy: 0.6834 - val_loss: 0.8548 - val_accuracy: 0.6768\n",
            "Epoch 2/15\n",
            "54/54 [==============================] - 97s 2s/step - loss: 0.6313 - accuracy: 0.7582 - val_loss: 0.8570 - val_accuracy: 0.6721\n",
            "Epoch 3/15\n",
            "54/54 [==============================] - 93s 2s/step - loss: 0.4765 - accuracy: 0.8178 - val_loss: 0.8889 - val_accuracy: 0.6792\n",
            "Epoch 4/15\n",
            "54/54 [==============================] - 104s 2s/step - loss: 0.3265 - accuracy: 0.8803 - val_loss: 1.0052 - val_accuracy: 0.7143\n",
            "Epoch 5/15\n",
            "54/54 [==============================] - 99s 2s/step - loss: 0.2182 - accuracy: 0.9229 - val_loss: 1.0081 - val_accuracy: 0.7166\n",
            "Epoch 6/15\n",
            "54/54 [==============================] - 99s 2s/step - loss: 0.1351 - accuracy: 0.9539 - val_loss: 1.4322 - val_accuracy: 0.6932\n",
            "Epoch 7/15\n",
            "54/54 [==============================] - 101s 2s/step - loss: 0.1401 - accuracy: 0.9539 - val_loss: 1.4148 - val_accuracy: 0.6651\n",
            "Epoch 8/15\n",
            "54/54 [==============================] - 100s 2s/step - loss: 0.0693 - accuracy: 0.9778 - val_loss: 1.5457 - val_accuracy: 0.6768\n",
            "Epoch 9/15\n",
            "54/54 [==============================] - 107s 2s/step - loss: 0.0380 - accuracy: 0.9895 - val_loss: 1.7648 - val_accuracy: 0.6885\n",
            "Epoch 10/15\n",
            "54/54 [==============================] - 99s 2s/step - loss: 0.0247 - accuracy: 0.9936 - val_loss: 2.0592 - val_accuracy: 0.6815\n",
            "Epoch 11/15\n",
            "54/54 [==============================] - 99s 2s/step - loss: 0.0186 - accuracy: 0.9965 - val_loss: 2.1813 - val_accuracy: 0.6979\n",
            "Epoch 12/15\n",
            "54/54 [==============================] - 95s 2s/step - loss: 0.0799 - accuracy: 0.9737 - val_loss: 1.6920 - val_accuracy: 0.7073\n",
            "Epoch 13/15\n",
            "54/54 [==============================] - 101s 2s/step - loss: 0.0565 - accuracy: 0.9866 - val_loss: 1.8259 - val_accuracy: 0.6909\n",
            "Epoch 14/15\n",
            "54/54 [==============================] - 113s 2s/step - loss: 0.0453 - accuracy: 0.9912 - val_loss: 2.0008 - val_accuracy: 0.6838\n",
            "Epoch 15/15\n",
            "54/54 [==============================] - 100s 2s/step - loss: 0.0871 - accuracy: 0.9813 - val_loss: 1.7379 - val_accuracy: 0.6792\n"
          ]
        }
      ]
    },
    {
      "cell_type": "code",
      "source": [
        "model.save('flower_recognizer_model.h5')"
      ],
      "metadata": {
        "id": "pv9NColKFXOu"
      },
      "execution_count": 31,
      "outputs": []
    }
  ]
}