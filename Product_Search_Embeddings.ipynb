{
  "nbformat": 4,
  "nbformat_minor": 0,
  "metadata": {
    "colab": {
      "provenance": []
    },
    "kernelspec": {
      "name": "python3",
      "display_name": "Python 3"
    },
    "language_info": {
      "name": "python"
    }
  },
  "cells": [
    {
      "cell_type": "markdown",
      "source": [
        "Embedding based product search using an amazon reviews dataset. The app is very limited due to the small dataset, larger dataset would improve it performance and value. A large product dataset would be hard to find due to the nature of this type of data usually being proproietary."
      ],
      "metadata": {
        "id": "msPn4k5l6esK"
      }
    },
    {
      "cell_type": "code",
      "source": [
        "import pandas as pd\n",
        "from sklearn.feature_extraction.text import TfidfVectorizer\n",
        "from sklearn.neighbors import NearestNeighbors"
      ],
      "metadata": {
        "id": "iROocLCSrINJ"
      },
      "execution_count": 17,
      "outputs": []
    },
    {
      "cell_type": "code",
      "source": [
        "# Function to load the dataset\n",
        "def load_dataset(file_path):\n",
        "    return pd.read_csv(file_path, error_bad_lines=False)\n",
        "\n",
        "# Function to preprocess data\n",
        "def preprocess_data(df):\n",
        "    df['Product Name'] = df['Product Name'].fillna('')\n",
        "    df['Product Description'] = df['Product Description'].fillna('')\n",
        "    df['Combined Description'] = df['Product Name'] + \" \" + df['Product Description']\n",
        "    return df\n",
        "\n",
        "# Function to generate TF-IDF embeddings\n",
        "def generate_embeddings(data):\n",
        "    vectorizer = TfidfVectorizer(max_features=5000)\n",
        "    embeddings = vectorizer.fit_transform(data['Combined Description'])\n",
        "    return embeddings, vectorizer\n",
        "\n",
        "# Function to train Nearest Neighbors model\n",
        "def train_nn_model(embeddings):\n",
        "    nn_model = NearestNeighbors(n_neighbors=5, algorithm='auto')\n",
        "    nn_model.fit(embeddings)\n",
        "    return nn_model\n",
        "\n",
        "# Search function\n",
        "def search_products(query, model, vectorizer, data, top_k=5):\n",
        "    query_vector = vectorizer.transform([query])\n",
        "    distances, indices = model.kneighbors(query_vector, n_neighbors=top_k)\n",
        "    return data.iloc[indices[0]][['Product Name', 'Product Description']]\n",
        "\n",
        "# Main function to run the application\n",
        "def main(file_path):\n",
        "    # Load and preprocess the dataset\n",
        "    df = load_dataset(file_path)\n",
        "    df = preprocess_data(df)\n",
        "\n",
        "    # Generate embeddings\n",
        "    embeddings, vectorizer = generate_embeddings(df)\n",
        "\n",
        "    # Train Nearest Neighbors model\n",
        "    nn_model = train_nn_model(embeddings)\n",
        "\n",
        "    # Test queries\n",
        "    test_queries = [\n",
        "        \"kitchen appliances\",\n",
        "        \"gaming consoles\",\n",
        "        \"running shoes\",\n",
        "        \"gardening tools\",\n",
        "        \"acrylic paint set\",\n",
        "    ]\n",
        "\n",
        "    # Iterate over test queries and print search results\n",
        "    for query in test_queries:\n",
        "        print(f\"Search Results for '{query}':\")\n",
        "        search_results = search_products(query, nn_model, vectorizer, df)\n",
        "        print(search_results)\n",
        "        print(\"\\n\")"
      ],
      "metadata": {
        "id": "grRE9VzJrIPl"
      },
      "execution_count": 14,
      "outputs": []
    },
    {
      "cell_type": "code",
      "execution_count": 15,
      "metadata": {
        "id": "sdsIg9fikQjb"
      },
      "outputs": [],
      "source": [
        "# load data\n",
        "file_path = '/content/marketing_sample_for_amazon_com-ecommerce__20200101_20200131__10k_data.csv'"
      ]
    },
    {
      "cell_type": "code",
      "source": [
        "main(file_path)"
      ],
      "metadata": {
        "colab": {
          "base_uri": "https://localhost:8080/"
        },
        "id": "kFPC9Lmxrbe-",
        "outputId": "6c9b9f2f-e177-43aa-c158-17e7fc3bd896"
      },
      "execution_count": 16,
      "outputs": [
        {
          "output_type": "stream",
          "name": "stderr",
          "text": [
            "<ipython-input-14-a0321bdde46a>:3: FutureWarning: The error_bad_lines argument has been deprecated and will be removed in a future version. Use on_bad_lines in the future.\n",
            "\n",
            "\n",
            "  return pd.read_csv(file_path, error_bad_lines=False)\n",
            "Skipping line 1072: expected 28 fields, saw 30\n",
            "Skipping line 2134: expected 28 fields, saw 32\n",
            "Skipping line 3182: expected 28 fields, saw 36\n",
            "Skipping line 3714: expected 28 fields, saw 39\n",
            "Skipping line 4779: expected 28 fields, saw 38\n",
            "\n"
          ]
        },
        {
          "output_type": "stream",
          "name": "stdout",
          "text": [
            "Search Results for 'kitchen appliances':\n",
            "                                           Product Name Product Description\n",
            "2975  Step2 Modern Metro Kitchen | Modern Play Kitch...                    \n",
            "7268  'Deluxe Modern Kitchen' Battery Operated Toy K...                    \n",
            "2307  Plantoys Dollhouse Furniture Kitchen Set, 6 Pi...                    \n",
            "157                                                Nuts                    \n",
            "83                                           Herbaceous                    \n",
            "\n",
            "\n",
            "Search Results for 'gaming consoles':\n",
            "                                   Product Name Product Description\n",
            "999                   Hasbro Gaming Cootie Game                    \n",
            "4601      Dragon Shield Card Gaming Box, Silver                    \n",
            "5467  Dragon Shield Gaming Box Card Game, Green                    \n",
            "83                                   Herbaceous                    \n",
            "1157                                Diamonsters                    \n",
            "\n",
            "\n",
            "Search Results for 'running shoes':\n",
            "                                           Product Name Product Description\n",
            "9150  Big Time Toys Moon Shoes Bouncy Shoes - Mini T...                    \n",
            "7443                      Batgirl Glitter Slipper Shoes                    \n",
            "1570                                 Foxmind Architecto                    \n",
            "1157                                        Diamonsters                    \n",
            "83                                           Herbaceous                    \n",
            "\n",
            "\n",
            "Search Results for 'gardening tools':\n",
            "                                           Product Name Product Description\n",
            "7751  Tuff Tools LANARD Clean Cut Chainsaw Toy-Figur...                    \n",
            "1970              General Tools TDS503 Pocket TDS Meter                    \n",
            "7578  MooToys Handy Tool Set with Play Tools Include...                    \n",
            "1249                                            Firenze                    \n",
            "83                                           Herbaceous                    \n",
            "\n",
            "\n",
            "Search Results for 'acrylic paint set':\n",
            "                             Product Name Product Description\n",
            "4083          Vallejo Acrylic Paint, Grey                    \n",
            "4442    Vallejo Acrylic Paint, Orange Red                    \n",
            "1162         Vallejo Acrylic Paint, Khaki                    \n",
            "3928    Vallejo Acrylic Paint, Tan Yellow                    \n",
            "3561  Vallejo Acrylic Paint, Track Primer                    \n",
            "\n",
            "\n"
          ]
        }
      ]
    }
  ]
}